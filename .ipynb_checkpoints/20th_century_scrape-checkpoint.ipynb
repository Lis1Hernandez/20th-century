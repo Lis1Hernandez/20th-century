{
 "cells": [
  {
   "cell_type": "code",
   "execution_count": 3,
   "id": "4eb0ffe5-26bd-47c5-b1e5-9ecbdd18a893",
   "metadata": {},
   "outputs": [],
   "source": [
    "# importing relevant libraries\n",
    "from bs4 import BeautifulSoup\n",
    "import requests"
   ]
  },
  {
   "cell_type": "code",
   "execution_count": 5,
   "id": "e478c1b2-5e36-4188-a053-5b3dc3c46916",
   "metadata": {},
   "outputs": [],
   "source": [
    "# getting website and turning into soup\n",
    "page_url =  requests.get(\"https://en.wikipedia.org/wiki/Key_events_of_the_20th_century\")\n",
    "soup = BeautifulSoup(page_url.text, 'html.parser')"
   ]
  },
  {
   "cell_type": "code",
   "execution_count": 7,
   "id": "46845b2a-9c49-4db6-a453-6e896fa947eb",
   "metadata": {},
   "outputs": [],
   "source": [
    "# turning soup into a text file\n",
    "text = soup.get_text()\n",
    "text = text.encode ('utf-8')\n",
    "with open('key_event_20th_century.txt', 'wb') as f:\n",
    "       f.write(text)"
   ]
  }
 ],
 "metadata": {
  "kernelspec": {
   "display_name": "Python [conda env:20th-century] *",
   "language": "python",
   "name": "conda-env-20th-century-py"
  },
  "language_info": {
   "codemirror_mode": {
    "name": "ipython",
    "version": 3
   },
   "file_extension": ".py",
   "mimetype": "text/x-python",
   "name": "python",
   "nbconvert_exporter": "python",
   "pygments_lexer": "ipython3",
   "version": "3.12.5"
  }
 },
 "nbformat": 4,
 "nbformat_minor": 5
}
